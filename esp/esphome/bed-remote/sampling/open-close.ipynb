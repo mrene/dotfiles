{
 "cells": [
  {
   "cell_type": "markdown",
   "metadata": {},
   "source": [
    "# Bed Frame Analysis with Home Assistant Events\n",
    "\n",
    "This notebook uses the refactored Python modules for analyzing bed frame sensor data with Home Assistant events."
   ]
  },
  {
   "cell_type": "code",
   "execution_count": null,
   "metadata": {},
   "outputs": [],
   "source": [
    "# Import required libraries and our custom modules\n",
    "import pandas as pd\n",
    "import numpy as np\n",
    "import matplotlib.pyplot as plt\n",
    "from IPython.display import display\n",
    "\n",
    "# Import our refactored modules\n",
    "from movement_detection import MovementConfig\n",
    "from ha_client import load_ha_events\n",
    "from bed_frame_analysis import (\n",
    "    load_sensor_data,\n",
    "    analyze_all_events,\n",
    "    print_analysis_summary\n",
    ")\n",
    "from visualization import plot_pitch_with_events, plot_velocity_profile\n",
    "\n",
    "%matplotlib inline"
   ]
  },
  {
   "cell_type": "code",
   "execution_count": null,
   "metadata": {},
   "outputs": [],
   "source": [
    "# Load and examine sensor data\n",
    "df = load_sensor_data('open-close.csv')\n",
    "\n",
    "print(f\"Loaded {len(df)} sensor readings\")\n",
    "print(f\"Sensor time range: {df['sensor_timestamp'].min()} to {df['sensor_timestamp'].max()}\")\n",
    "print(f\"Pitch range: {df['pitch'].min():.3f} to {df['pitch'].max():.3f} radians\")\n",
    "\n",
    "# Display first few rows\n",
    "print(\"\\nFirst 5 rows of data:\")\n",
    "display(df[['sensor_timestamp', 'pitch', 'roll', 'yaw']].head())"
   ]
  },
  {
   "cell_type": "code",
   "execution_count": null,
   "metadata": {},
   "outputs": [],
   "source": [
    "# Load Home Assistant events\n",
    "ENTITY_ID = 'cover.bed_remote_head_position'\n",
    "HA_URL = 'http://tvpi:8123'\n",
    "TOKEN_PATH = '/run/secrets/home-assistant/token'\n",
    "\n",
    "ha_events = load_ha_events(\n",
    "    sensor_df=df,\n",
    "    entity_id=ENTITY_ID,\n",
    "    ha_url=HA_URL,\n",
    "    token_path=TOKEN_PATH\n",
    ")\n",
    "\n",
    "print(f\"Found {len(ha_events)} events within sensor data timeframe\")\n",
    "for event in ha_events:\n",
    "    print(f\"  {event['timestamp']}: {event['state']}\")"
   ]
  },
  {
   "cell_type": "code",
   "execution_count": null,
   "metadata": {},
   "outputs": [],
   "source": [
    "# Configure and run movement analysis\n",
    "config = MovementConfig(\n",
    "    window_seconds=20.0,          # Look for movement within 20 seconds\n",
    "    movement_threshold=0.005,      # Radians/second to consider as \"stopped\"\n",
    "    stability_time=0.5,            # Seconds of stability required to confirm stop\n",
    "    start_movement_threshold=0.01  # Minimum change to detect movement has started\n",
    ")\n",
    "\n",
    "# Analyze all events\n",
    "analysis = analyze_all_events(ha_events, df, config)\n",
    "\n",
    "# Print detailed results\n",
    "print_analysis_summary(analysis)"
   ]
  },
  {
   "cell_type": "code",
   "execution_count": null,
   "metadata": {},
   "outputs": [],
   "source": [
    "# Create main visualization\n",
    "fig = plot_pitch_with_events(df, ha_events, analysis, figsize=(14, 8))\n",
    "plt.show()\n",
    "\n",
    "# Print summary of detected stop points\n",
    "if analysis['results']:\n",
    "    print(f\"\\nDetected {len(analysis['results'])} movement stop points\")\n",
    "    avg_start_delay = np.mean([r['start_delay_ms'] for r in analysis['results']])\n",
    "    avg_stop_delay = np.mean([r['stop_delay_ms'] for r in analysis['results']])\n",
    "    print(f\"Average start delay: {avg_start_delay:.0f} ms\")\n",
    "    print(f\"Average stop delay: {avg_stop_delay:.0f} ms\")"
   ]
  },
  {
   "cell_type": "code",
   "execution_count": null,
   "metadata": {},
   "outputs": [],
   "source": [
    "# Plot velocity profiles for individual events\n",
    "for i, event in enumerate(ha_events[:2]):  # Show first 2 events\n",
    "    print(f\"\\nEvent {i+1}: {event['state'].capitalize()} at {event['timestamp'].strftime('%H:%M:%S')}\")\n",
    "    fig = plot_velocity_profile(event, df, config.window_seconds, figsize=(12, 6))\n",
    "    plt.show()"
   ]
  },
  {
   "cell_type": "code",
   "execution_count": null,
   "metadata": {},
   "outputs": [],
   "source": [
    "# Interactive exploration - Try different configurations\n",
    "print(\"Testing different movement detection parameters:\\n\")\n",
    "\n",
    "configs_to_test = [\n",
    "    (\"Sensitive\", MovementConfig(movement_threshold=0.003, stability_time=0.3)),\n",
    "    (\"Default\", MovementConfig()),\n",
    "    (\"Less Sensitive\", MovementConfig(movement_threshold=0.008, stability_time=0.7)),\n",
    "]\n",
    "\n",
    "comparison_results = []\n",
    "\n",
    "for name, test_config in configs_to_test:\n",
    "    test_analysis = analyze_all_events(ha_events, df, test_config)\n",
    "    \n",
    "    print(f\"{name} Configuration:\")\n",
    "    print(f\"  Movement threshold: {test_config.movement_threshold:.3f} rad/s\")\n",
    "    print(f\"  Stability time: {test_config.stability_time:.1f} s\")\n",
    "    \n",
    "    if test_analysis['results']:\n",
    "        avg_stop = np.mean([r['stop_delay_ms'] for r in test_analysis['results']])\n",
    "        print(f\"  Detected events: {len(test_analysis['results'])}\")\n",
    "        print(f\"  Avg stop delay: {avg_stop:.0f} ms\")\n",
    "    else:\n",
    "        print(f\"  No events detected\")\n",
    "    \n",
    "    comparison_results.append((name, test_config, test_analysis))\n",
    "    print()"
   ]
  },
  {
   "cell_type": "code",
   "execution_count": null,
   "metadata": {},
   "outputs": [],
   "source": [
    "# Export results for further analysis\n",
    "if analysis['results']:\n",
    "    # Convert results to DataFrame for easy manipulation\n",
    "    results_df = pd.DataFrame(analysis['results'])\n",
    "    \n",
    "    # Add derived columns\n",
    "    results_df['movement_duration_ms'] = results_df['stop_delay_ms'] - results_df['start_delay_ms']\n",
    "    results_df['pitch_change_abs'] = results_df['pitch_change'].abs()\n",
    "    \n",
    "    print(\"Analysis Results Summary:\")\n",
    "    print(results_df[['event_state', 'start_delay_ms', 'stop_delay_ms', \n",
    "                      'movement_duration_ms', 'pitch_change', 'direction']])\n",
    "    \n",
    "    # Save to CSV if needed\n",
    "    # results_df.to_csv('movement_analysis_results.csv', index=False)\n",
    "    # print(\"\\nResults saved to 'movement_analysis_results.csv'\")"
   ]
  }
 ],
 "metadata": {
  "kernelspec": {
   "display_name": "Python 3 (ipykernel)",
   "language": "python",
   "name": "python3"
  },
  "language_info": {
   "codemirror_mode": {
    "name": "ipython",
    "version": 3
   },
   "file_extension": ".py",
   "mimetype": "text/x-python",
   "name": "python",
   "nbconvert_exporter": "python",
   "pygments_lexer": "ipython3",
   "version": "3.13.5"
  }
 },
 "nbformat": 4,
 "nbformat_minor": 4
}
