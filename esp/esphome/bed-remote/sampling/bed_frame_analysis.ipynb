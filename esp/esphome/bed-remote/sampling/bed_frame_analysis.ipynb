{
 "cells": [
  {
   "cell_type": "markdown",
   "metadata": {},
   "source": [
    "# Bed Frame Movement Analysis - Velocity Profiles\n",
    "\n",
    "This notebook focuses on analyzing bed frame movements and visualizing velocity profiles to understand stop delays."
   ]
  },
  {
   "cell_type": "code",
   "execution_count": 1,
   "metadata": {},
   "outputs": [],
   "source": [
    "# Import required libraries\n",
    "import pandas as pd\n",
    "import numpy as np\n",
    "import matplotlib.pyplot as plt\n",
    "from IPython.display import display\n",
    "\n",
    "# Import our custom modules\n",
    "from movement_detection import MovementConfig, calculate_velocity\n",
    "from ha_client import load_ha_events\n",
    "from bed_frame_analysis import load_sensor_data, analyze_interrupted_events\n",
    "\n",
    "%matplotlib inline\n",
    "\n",
    "# Set default figure size for better visibility\n",
    "plt.rcParams['figure.figsize'] = (12, 6)"
   ]
  },
  {
   "cell_type": "code",
   "execution_count": 2,
   "metadata": {},
   "outputs": [
    {
     "name": "stdout",
     "output_type": "stream",
     "text": [
      "Dataset: partial-movements.csv\n",
      "Movement threshold: 0.005 rad/s\n",
      "Stability time: 0.5 s\n"
     ]
    }
   ],
   "source": [
    "# Configuration\n",
    "DATASET = 'partial-movements.csv'  # Change to 'open-close.csv' for full movement analysis\n",
    "ENTITY_ID = 'cover.bed_remote_head_position'\n",
    "HA_URL = 'http://tvpi:8123'\n",
    "TOKEN_PATH = '/run/secrets/home-assistant/token'\n",
    "\n",
    "# Movement detection parameters\n",
    "config = MovementConfig(\n",
    "    window_seconds=20.0,\n",
    "    movement_threshold=0.005,      # rad/s to consider as stopped\n",
    "    stability_time=0.5,             # seconds of stability required\n",
    "    start_movement_threshold=0.01  # minimum change to detect movement start\n",
    ")\n",
    "\n",
    "print(f\"Dataset: {DATASET}\")\n",
    "print(f\"Movement threshold: {config.movement_threshold:.3f} rad/s\")\n",
    "print(f\"Stability time: {config.stability_time:.1f} s\")"
   ]
  },
  {
   "cell_type": "code",
   "execution_count": 3,
   "metadata": {},
   "outputs": [
    {
     "name": "stdout",
     "output_type": "stream",
     "text": [
      "Loaded 1260 sensor readings\n",
      "Time range: 23:49:33 to 23:50:36\n",
      "Pitch range: 0.043 to 0.564 rad\n",
      "\n",
      "Found 20 events:\n",
      "  closed: 1\n",
      "  closing: 5\n",
      "  open: 9\n",
      "  opening: 5\n"
     ]
    }
   ],
   "source": [
    "# Load sensor data and Home Assistant events\n",
    "df = load_sensor_data(DATASET)\n",
    "ha_events = load_ha_events(df, ENTITY_ID, HA_URL, TOKEN_PATH, event_types=None)\n",
    "\n",
    "print(f\"Loaded {len(df)} sensor readings\")\n",
    "print(f\"Time range: {df['sensor_timestamp'].min().strftime('%H:%M:%S')} to {df['sensor_timestamp'].max().strftime('%H:%M:%S')}\")\n",
    "print(f\"Pitch range: {df['pitch'].min():.3f} to {df['pitch'].max():.3f} rad\")\n",
    "print(f\"\\nFound {len(ha_events)} events:\")\n",
    "\n",
    "# Group events by type\n",
    "event_counts = {}\n",
    "for event in ha_events:\n",
    "    state = event['state']\n",
    "    event_counts[state] = event_counts.get(state, 0) + 1\n",
    "    \n",
    "for state, count in sorted(event_counts.items()):\n",
    "    print(f\"  {state}: {count}\")"
   ]
  },
  {
   "cell_type": "code",
   "execution_count": 4,
   "metadata": {},
   "outputs": [
    {
     "name": "stdout",
     "output_type": "stream",
     "text": [
      "Analyzed 5 movement→stop sequences\n",
      "\n",
      "Opening: 23:49:51 → 23:49:55 (stop delay: 841ms)\n",
      "Opening: 23:50:00 → 23:50:03 (stop delay: 932ms)\n",
      "Opening: 23:50:06 → 23:50:08 (stop delay: 924ms)\n",
      "Closing: 23:50:22 → 23:50:23 (stop delay: 4221ms)\n",
      "Closing: 23:50:24 → 23:50:30 (stop delay: 275ms)\n",
      "\n",
      "==================================================\n",
      "Opening Interrupted:\n",
      "  Average stop delay: 899 ms\n",
      "  Range: 841-932 ms\n",
      "Closing Interrupted:\n",
      "  Average stop delay: 2248 ms\n",
      "  Range: 275-4221 ms\n"
     ]
    }
   ],
   "source": [
    "# Analyze movements to find stop delays\n",
    "analysis = analyze_interrupted_events(ha_events, df, config)\n",
    "\n",
    "if analysis['results']:\n",
    "    print(f\"Analyzed {len(analysis['results'])} movement→stop sequences\\n\")\n",
    "    \n",
    "    # Summary by movement type\n",
    "    for result in analysis['results']:\n",
    "        print(f\"{result.movement_type.capitalize()}: \"\n",
    "              f\"{result.movement_command_time.strftime('%H:%M:%S')} → \"\n",
    "              f\"{result.stop_command_time.strftime('%H:%M:%S')} \"\n",
    "              f\"(stop delay: {result.stop_delay_ms:.0f}ms)\")\n",
    "    \n",
    "    # Statistics\n",
    "    if analysis['statistics']:\n",
    "        print(\"\\n\" + \"=\"*50)\n",
    "        for movement_type, stats in analysis['statistics'].items():\n",
    "            print(f\"{movement_type.replace('_', ' ').title()}:\")\n",
    "            print(f\"  Average stop delay: {stats['avg_stop_delay_ms']:.0f} ms\")\n",
    "            print(f\"  Range: {stats['min_stop_delay_ms']:.0f}-{stats['max_stop_delay_ms']:.0f} ms\")\n",
    "else:\n",
    "    print(\"No movement sequences found in data\")"
   ]
  },
  {
   "cell_type": "code",
   "execution_count": null,
   "metadata": {},
   "outputs": [],
   "source": "# Main visualization: Pitch and velocity over time with all events\nfig, (ax1, ax2) = plt.subplots(2, 1, figsize=(14, 8), sharex=True)\n\n# Calculate velocity for entire dataset\ndf_with_velocity = calculate_velocity(df)\n\n# Plot pitch\nax1.plot(df['sensor_timestamp'], df['pitch'], 'b-', linewidth=1.5, alpha=0.8)\nax1.set_ylabel('Pitch (radians)', fontsize=11)\nax1.grid(True, alpha=0.3)\nax1.set_title(f'Bed Frame Movement Analysis - {DATASET}', fontsize=13, fontweight='bold')\n\n# Plot velocity (signed: positive=opening, negative=closing)\nax2.plot(df_with_velocity['sensor_timestamp'], df_with_velocity['pitch_velocity_signed_smooth'], \n         'r-', linewidth=1.5, alpha=0.8)\nax2.axhline(y=config.movement_threshold, color='gray', linestyle=':', alpha=0.5, \n            label=f'Stop threshold (±{config.movement_threshold:.3f} rad/s)')\nax2.axhline(y=-config.movement_threshold, color='gray', linestyle=':', alpha=0.5)\nax2.axhline(y=0, color='black', linestyle='-', alpha=0.3, linewidth=0.5)\nax2.set_ylabel('Velocity (rad/s)', fontsize=11)\nax2.set_xlabel('Time', fontsize=11)\nax2.grid(True, alpha=0.3)\nax2.legend(loc='upper right')\n\n# Add event markers to both plots\nfor event in ha_events:\n    if event['state'] in ['opening', 'closing']:\n        color = 'green' if event['state'] == 'opening' else 'red'\n        label = 'Open' if event['state'] == 'opening' else 'Close'\n        for ax in [ax1, ax2]:\n            ax.axvline(x=event['timestamp'], color=color, linestyle='--', \n                      alpha=0.6, linewidth=1.5)\n            # Add label only on top plot\n            if ax == ax1:\n                ax.text(event['timestamp'], ax.get_ylim()[1]*0.95, label,\n                       rotation=0, ha='center', va='top', color=color, \n                       fontsize=9, fontweight='bold')\n    \n    elif event['state'] in ['open', 'closed']:\n        color = 'orange'\n        for ax in [ax1, ax2]:\n            ax.axvline(x=event['timestamp'], color=color, linestyle=':', \n                      alpha=0.6, linewidth=1.5)\n            # Add label only on top plot\n            if ax == ax1:\n                ax.text(event['timestamp'], ax.get_ylim()[1]*0.85, 'STOP',\n                       rotation=0, ha='center', va='top', color=color, \n                       fontsize=9, fontweight='bold')\n\nplt.tight_layout()\nplt.show()\n\nprint(\"Green = Opening command, Red = Closing command, Orange = Stop command\")\nprint(\"Positive velocity = bed opening (pitch increasing)\")\nprint(\"Negative velocity = bed closing (pitch decreasing)\")"
  },
  {
   "cell_type": "code",
   "execution_count": null,
   "metadata": {},
   "outputs": [],
   "source": "# Detailed velocity profiles for each movement sequence\nif analysis['results']:\n    print(f\"Showing velocity profiles for {len(analysis['results'])} movement sequences:\\n\")\n    \n    for i, result in enumerate(analysis['results'], 1):\n        # Create window around this movement\n        window_start = result.movement_command_time - pd.Timedelta(seconds=2)\n        window_end = result.actual_stop_time + pd.Timedelta(seconds=3)\n        window_df = df[(df['sensor_timestamp'] >= window_start) & \n                       (df['sensor_timestamp'] <= window_end)].copy()\n        \n        if len(window_df) > 10:\n            window_df = calculate_velocity(window_df)\n            \n            # Create subplot\n            fig, (ax1, ax2) = plt.subplots(2, 1, figsize=(12, 6), sharex=True)\n            \n            # Plot pitch\n            ax1.plot(window_df['sensor_timestamp'], window_df['pitch'], \n                    'b-', linewidth=2, alpha=0.8)\n            ax1.set_ylabel('Pitch (rad)', fontsize=11)\n            ax1.grid(True, alpha=0.3)\n            ax1.set_title(f'Movement #{i}: {result.movement_type.capitalize()} - Stop Delay: {result.stop_delay_ms:.0f} ms', \n                         fontsize=12, fontweight='bold')\n            \n            # Mark key points on pitch plot\n            ax1.axvline(result.movement_command_time, color='green', linestyle='--', \n                       alpha=0.7, linewidth=2, label='Movement command')\n            ax1.axvline(result.stop_command_time, color='red', linestyle='--', \n                       alpha=0.7, linewidth=2, label='Stop command')\n            ax1.axvline(result.actual_stop_time, color='orange', linestyle=':', \n                       alpha=0.7, linewidth=2, label='Movement stopped')\n            \n            # Add pitch values at key points\n            ax1.text(result.movement_command_time, result.pitch_at_start, \n                    f'{result.pitch_at_start:.3f}', ha='right', va='bottom', fontsize=9)\n            ax1.text(result.stop_command_time, result.pitch_at_stop_command, \n                    f'{result.pitch_at_stop_command:.3f}', ha='left', va='bottom', fontsize=9)\n            ax1.text(result.actual_stop_time, result.pitch_at_actual_stop, \n                    f'{result.pitch_at_actual_stop:.3f}', ha='left', va='top', fontsize=9)\n            \n            ax1.legend(loc='best', fontsize=9)\n            \n            # Plot signed velocity\n            ax2.plot(window_df['sensor_timestamp'], window_df['pitch_velocity_signed_smooth'], \n                    'r-', linewidth=2, alpha=0.8, label='Velocity (signed)')\n            ax2.set_ylabel('Velocity (rad/s)', fontsize=11)\n            ax2.set_xlabel('Time', fontsize=11)\n            ax2.grid(True, alpha=0.3)\n            \n            # Mark key points on velocity plot\n            ax2.axvline(result.movement_command_time, color='green', linestyle='--', \n                       alpha=0.7, linewidth=2)\n            ax2.axvline(result.stop_command_time, color='red', linestyle='--', \n                       alpha=0.7, linewidth=2)\n            ax2.axvline(result.actual_stop_time, color='orange', linestyle=':', \n                       alpha=0.7, linewidth=2)\n            \n            # Show stop threshold\n            ax2.axhline(config.movement_threshold, color='gray', linestyle=':', \n                       alpha=0.5, label=f'Stop threshold (±{config.movement_threshold:.3f} rad/s)')\n            ax2.axhline(-config.movement_threshold, color='gray', linestyle=':', alpha=0.5)\n            ax2.axhline(0, color='black', linestyle='-', alpha=0.3, linewidth=0.5)\n            \n            # Highlight stop delay period\n            ax2.axvspan(result.stop_command_time, result.actual_stop_time, \n                       alpha=0.2, color='yellow', label=f'Stop delay: {result.stop_delay_ms:.0f} ms')\n            \n            ax2.legend(loc='best', fontsize=9)\n            \n            plt.tight_layout()\n            plt.show()\n            \n            # Print details for this movement\n            print(f\"Movement #{i} Details:\")\n            print(f\"  Type: {result.movement_type}\")\n            print(f\"  Duration: {result.command_duration_s:.2f} seconds\")\n            print(f\"  Stop delay: {result.stop_delay_ms:.0f} ms\")\n            print(f\"  Pitch change: {result.pitch_change_during_movement:.3f} rad\")\n            print(f\"  Overrun after stop: {result.overrun_after_stop:.3f} rad\")\n            if result.velocity_at_stop_command:\n                print(f\"  Velocity at stop command: {result.velocity_at_stop_command:.3f} rad/s\")\n            print()"
  },
  {
   "cell_type": "code",
   "execution_count": 7,
   "metadata": {},
   "outputs": [
    {
     "data": {
      "image/png": "[encoded data removed]",
      "text/plain": [
       "<Figure size 800x600 with 1 Axes>"
      ]
     },
     "metadata": {},
     "output_type": "display_data"
    },
    {
     "name": "stdout",
     "output_type": "stream",
     "text": [
      "Key Insight: Opening movements stop 1349 ms faster on average\n"
     ]
    }
   ],
   "source": [
    "# Compare stop delays between opening and closing movements\n",
    "if analysis['statistics']:\n",
    "    fig, ax = plt.subplots(figsize=(8, 6))\n",
    "    \n",
    "    movement_types = []\n",
    "    avg_delays = []\n",
    "    colors = []\n",
    "    \n",
    "    for key, stats in analysis['statistics'].items():\n",
    "        if 'opening' in key:\n",
    "            movement_types.append('Opening')\n",
    "            colors.append('green')\n",
    "        elif 'closing' in key:\n",
    "            movement_types.append('Closing')\n",
    "            colors.append('red')\n",
    "        else:\n",
    "            continue\n",
    "        avg_delays.append(stats['avg_stop_delay_ms'])\n",
    "    \n",
    "    if movement_types:\n",
    "        bars = ax.bar(movement_types, avg_delays, color=colors, alpha=0.7, edgecolor='black', linewidth=2)\n",
    "        \n",
    "        # Add value labels on bars\n",
    "        for bar, val in zip(bars, avg_delays):\n",
    "            height = bar.get_height()\n",
    "            ax.text(bar.get_x() + bar.get_width()/2., height + 20,\n",
    "                   f'{val:.0f} ms', ha='center', va='bottom', fontsize=12, fontweight='bold')\n",
    "        \n",
    "        ax.set_ylabel('Stop Delay (ms)', fontsize=12)\n",
    "        ax.set_title('Average Stop Delay by Movement Type', fontsize=14, fontweight='bold')\n",
    "        ax.grid(True, alpha=0.3, axis='y')\n",
    "        ax.set_ylim(0, max(avg_delays) * 1.2)\n",
    "        \n",
    "        plt.tight_layout()\n",
    "        plt.show()\n",
    "        \n",
    "        # Print key insight\n",
    "        if len(avg_delays) == 2:\n",
    "            diff = abs(avg_delays[0] - avg_delays[1])\n",
    "            faster = movement_types[0] if avg_delays[0] < avg_delays[1] else movement_types[1]\n",
    "            print(f\"Key Insight: {faster} movements stop {diff:.0f} ms faster on average\")"
   ]
  },
  {
   "cell_type": "code",
   "execution_count": 8,
   "metadata": {},
   "outputs": [
    {
     "name": "stdout",
     "output_type": "stream",
     "text": [
      "============================================================\n",
      "ANALYSIS SUMMARY\n",
      "============================================================\n",
      "\n",
      "Dataset: partial-movements.csv\n",
      "Total sensor readings: 1260\n",
      "Total events: 20\n",
      "Movement sequences analyzed: 5\n",
      "\n",
      "Opening movements: 3\n",
      "  Average stop delay: 899 ms\n",
      "  Average overrun: 0.014 rad\n",
      "\n",
      "Closing movements: 2\n",
      "  Average stop delay: 2248 ms\n",
      "  Average overrun: -0.137 rad\n",
      "\n",
      "Key Findings:\n",
      "• Stop delay is measured from stop command to actual movement cessation\n",
      "• Overrun is the additional movement after the stop command\n",
      "• The yellow highlighted region in velocity plots shows the stop delay period\n",
      "\n",
      "============================================================\n"
     ]
    }
   ],
   "source": [
    "# Summary and insights\n",
    "print(\"=\" * 60)\n",
    "print(\"ANALYSIS SUMMARY\")\n",
    "print(\"=\" * 60)\n",
    "\n",
    "print(f\"\\nDataset: {DATASET}\")\n",
    "print(f\"Total sensor readings: {len(df)}\")\n",
    "print(f\"Total events: {len(ha_events)}\")\n",
    "\n",
    "if analysis['results']:\n",
    "    print(f\"Movement sequences analyzed: {len(analysis['results'])}\")\n",
    "    \n",
    "    # Group by movement type\n",
    "    opening_results = [r for r in analysis['results'] if r.movement_type == 'opening']\n",
    "    closing_results = [r for r in analysis['results'] if r.movement_type == 'closing']\n",
    "    \n",
    "    if opening_results:\n",
    "        print(f\"\\nOpening movements: {len(opening_results)}\")\n",
    "        avg_delay = np.mean([r.stop_delay_ms for r in opening_results])\n",
    "        avg_overrun = np.mean([r.overrun_after_stop for r in opening_results])\n",
    "        print(f\"  Average stop delay: {avg_delay:.0f} ms\")\n",
    "        print(f\"  Average overrun: {avg_overrun:.3f} rad\")\n",
    "    \n",
    "    if closing_results:\n",
    "        print(f\"\\nClosing movements: {len(closing_results)}\")\n",
    "        avg_delay = np.mean([r.stop_delay_ms for r in closing_results])\n",
    "        avg_overrun = np.mean([r.overrun_after_stop for r in closing_results])\n",
    "        print(f\"  Average stop delay: {avg_delay:.0f} ms\")\n",
    "        print(f\"  Average overrun: {avg_overrun:.3f} rad\")\n",
    "    \n",
    "    print(\"\\nKey Findings:\")\n",
    "    print(\"• Stop delay is measured from stop command to actual movement cessation\")\n",
    "    print(\"• Overrun is the additional movement after the stop command\")\n",
    "    print(\"• The yellow highlighted region in velocity plots shows the stop delay period\")\n",
    "    \n",
    "print(\"\\n\" + \"=\" * 60)"
   ]
  },
  {
   "cell_type": "code",
   "execution_count": null,
   "metadata": {},
   "outputs": [],
   "source": []
  }
 ],
 "metadata": {
  "kernelspec": {
   "display_name": "Python 3 (ipykernel)",
   "language": "python",
   "name": "python3"
  },
  "language_info": {
   "codemirror_mode": {
    "name": "ipython",
    "version": 3
   },
   "file_extension": ".py",
   "mimetype": "text/x-python",
   "name": "python",
   "nbconvert_exporter": "python",
   "pygments_lexer": "ipython3",
   "version": "3.13.5"
  }
 },
 "nbformat": 4,
 "nbformat_minor": 4
}